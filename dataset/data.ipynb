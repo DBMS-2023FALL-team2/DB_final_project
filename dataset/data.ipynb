{
 "cells": [
  {
   "cell_type": "code",
   "execution_count": 19,
   "metadata": {},
   "outputs": [
    {
     "name": "stdout",
     "output_type": "stream",
     "text": [
      "Index(['整合編號', '食品分類', '樣品名稱', '內容物描述', '俗名', '廢棄率(%)', '熱量(kcal)',\n",
      "       '修正熱量(kcal)', '水分(g)', '粗蛋白(g)',\n",
      "       ...\n",
      "       '異白胺酸(Ile)(mg)', '白胺酸(Leu)(mg)', '酪胺酸(Tyr)(mg)', '苯丙胺酸(Phe)(mg)',\n",
      "       '離胺酸(Lys)(mg)', '組胺酸(His)(mg)', '精胺酸(Arg)(mg)', '色胺酸(Trp)(mg)',\n",
      "       '膽固醇(mg)', '酒精含量(g)'],\n",
      "      dtype='object', length=110)\n",
      "Index(['ID', '樣品名稱', '熱量(kcal)', '粗蛋白(g)', '粗脂肪(g)', '總碳水化合物(g)'], dtype='object')\n"
     ]
    }
   ],
   "source": [
    "import pandas as pd\n",
    "import numpy as np\n",
    "\n",
    "df = pd.read_excel('dataset/food/food_nutrients.xlsx')\n",
    "# print(df.columns)\n",
    "df = df[['樣品名稱', '熱量(kcal)', '粗蛋白(g)', '粗脂肪(g)', '總碳水化合物(g)']]\n",
    "df['ID'] = range(1, len(df) + 1)\n",
    "# print(df.head())\n",
    "result_df = df[['ID', '樣品名稱', '熱量(kcal)', '粗蛋白(g)', '粗脂肪(g)', '總碳水化合物(g)']]\n",
    "# print(result_df.head())\n",
    "print(result_df.columns)\n",
    "result_df.to_csv('dataset/food/food_nutrients_clean.csv', index=False)"
   ]
  },
  {
   "cell_type": "code",
   "execution_count": 25,
   "metadata": {},
   "outputs": [
    {
     "name": "stdout",
     "output_type": "stream",
     "text": [
      "Index(['Activity', '130 lb', '155 lb', '180 lb', '205 lb', 'Calories per kg'], dtype='object')\n"
     ]
    }
   ],
   "source": [
    "df = pd.read_csv('dataset/exercise/exercise.csv')\n",
    "df = df.rename(columns={'Activity, Exercise or Sport (1 hour)': 'Activity'})\n",
    "print(df.columns)\n",
    "result_df = df[['Activity', 'Calories per kg']]\n",
    "result_df.to_csv('dataset/exercise/exercise_clean.csv', index=False)"
   ]
  }
 ],
 "metadata": {
  "kernelspec": {
   "display_name": "venv",
   "language": "python",
   "name": "python3"
  },
  "language_info": {
   "codemirror_mode": {
    "name": "ipython",
    "version": 3
   },
   "file_extension": ".py",
   "mimetype": "text/x-python",
   "name": "python",
   "nbconvert_exporter": "python",
   "pygments_lexer": "ipython3",
   "version": "3.10.12"
  },
  "orig_nbformat": 4
 },
 "nbformat": 4,
 "nbformat_minor": 2
}
